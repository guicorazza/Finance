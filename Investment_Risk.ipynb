{
  "nbformat": 4,
  "nbformat_minor": 0,
  "metadata": {
    "colab": {
      "provenance": [],
      "authorship_tag": "ABX9TyMTkQ+K79FgiGFBZtKyBfUp",
      "include_colab_link": true
    },
    "kernelspec": {
      "name": "python3",
      "display_name": "Python 3"
    }
  },
  "cells": [
    {
      "cell_type": "markdown",
      "metadata": {
        "id": "view-in-github",
        "colab_type": "text"
      },
      "source": [
        "<a href=\"https://colab.research.google.com/github/guicorazza/Finance/blob/main/Investment_Risk.ipynb\" target=\"_parent\"><img src=\"https://colab.research.google.com/assets/colab-badge.svg\" alt=\"Open In Colab\"/></a>"
      ]
    },
    {
      "cell_type": "markdown",
      "source": [
        "#Portfolio Risk\n",
        "Let's download data for a portfolio of securities and calculate the risk of said portfolio."
      ],
      "metadata": {
        "id": "_MEcgGKkb9oX"
      }
    },
    {
      "cell_type": "markdown",
      "source": [
        "#1. Installing libraries"
      ],
      "metadata": {
        "id": "5Y1Yd3wZ10sh"
      }
    },
    {
      "cell_type": "code",
      "source": [
        "!pip install yfinance --upgrade --no-cache-dir\n",
        "#https://pypi.org/project/yfinance/"
      ],
      "metadata": {
        "id": "A6zQLwKl1zUU"
      },
      "execution_count": null,
      "outputs": []
    },
    {
      "cell_type": "code",
      "metadata": {
        "id": "8WmIT5qSCLuG"
      },
      "source": [
        "import numpy as np\n",
        "import pandas as pd\n",
        "from pandas_datareader import data as wb\n",
        "import matplotlib.pyplot as plt"
      ],
      "execution_count": null,
      "outputs": []
    },
    {
      "cell_type": "markdown",
      "source": [
        "Defining function to show results in percentage format"
      ],
      "metadata": {
        "id": "ZEHVmgltdWK3"
      }
    },
    {
      "cell_type": "code",
      "source": [
        "def percentify(a):\n",
        "  print(str(round(a,5) * 100) + '%')"
      ],
      "metadata": {
        "id": "m5WffMdUdVsS"
      },
      "execution_count": null,
      "outputs": []
    },
    {
      "cell_type": "markdown",
      "source": [
        "We'll use Yahoo Finance API to retrieve the data. We'll override the yfinance data retrieve method to keep the data in a pandas dataframe format."
      ],
      "metadata": {
        "id": "4CeIp6xNdgA9"
      }
    },
    {
      "cell_type": "code",
      "source": [
        "import yfinance as yf\n",
        "yf.pdr_override()"
      ],
      "metadata": {
        "id": "Tu6eAl_KzWcX"
      },
      "execution_count": null,
      "outputs": []
    },
    {
      "cell_type": "markdown",
      "metadata": {
        "id": "59d0XmVJDDF7"
      },
      "source": [
        "#2. Calculating security risk"
      ]
    },
    {
      "cell_type": "markdown",
      "source": [
        "Let's define the tickers to be analysed. Because I am Brazilian, I'll focus on brazilian stocks and indices. We'll use Vale and Petrobras, two of the most traded stocks in Brazil.\n",
        "\n",
        "We'll focus on the Adjusted Close information only, as this column takes into account the dividends, splits and merges.\n",
        "\n",
        "Obs.: tickers can be defined either in a tuple (with or without commas) or in a list."
      ],
      "metadata": {
        "id": "l97CV1ErkxBx"
      }
    },
    {
      "cell_type": "code",
      "metadata": {
        "colab": {
          "base_uri": "https://localhost:8080/",
          "height": 255
        },
        "id": "u0oeAhQqCgv7",
        "outputId": "077caeed-f567-4138-a610-70b682974a72"
      },
      "source": [
        "tickers = ['VALE3.SA', 'PETR4.SA']\n",
        "sec_data = pd.DataFrame()\n",
        "sec_data = wb.get_data_yahoo(tickers,period='5y')['Adj Close']\n",
        "sec_data.tail()"
      ],
      "execution_count": null,
      "outputs": [
        {
          "output_type": "stream",
          "name": "stdout",
          "text": [
            "[*********************100%***********************]  2 of 2 completed\n"
          ]
        },
        {
          "output_type": "execute_result",
          "data": {
            "text/plain": [
              "             PETR4.SA   VALE3.SA\n",
              "Date                            \n",
              "2023-01-03  22.340000  89.239998\n",
              "2023-01-04  23.049999  89.400002\n",
              "2023-01-05  23.879999  90.900002\n",
              "2023-01-06  23.740000  92.339996\n",
              "2023-01-09  23.850000  92.500000"
            ],
            "text/html": [
              "\n",
              "  <div id=\"df-b9de9ff1-7ff4-4b97-9ef7-e718e91b5852\">\n",
              "    <div class=\"colab-df-container\">\n",
              "      <div>\n",
              "<style scoped>\n",
              "    .dataframe tbody tr th:only-of-type {\n",
              "        vertical-align: middle;\n",
              "    }\n",
              "\n",
              "    .dataframe tbody tr th {\n",
              "        vertical-align: top;\n",
              "    }\n",
              "\n",
              "    .dataframe thead th {\n",
              "        text-align: right;\n",
              "    }\n",
              "</style>\n",
              "<table border=\"1\" class=\"dataframe\">\n",
              "  <thead>\n",
              "    <tr style=\"text-align: right;\">\n",
              "      <th></th>\n",
              "      <th>PETR4.SA</th>\n",
              "      <th>VALE3.SA</th>\n",
              "    </tr>\n",
              "    <tr>\n",
              "      <th>Date</th>\n",
              "      <th></th>\n",
              "      <th></th>\n",
              "    </tr>\n",
              "  </thead>\n",
              "  <tbody>\n",
              "    <tr>\n",
              "      <th>2023-01-03</th>\n",
              "      <td>22.340000</td>\n",
              "      <td>89.239998</td>\n",
              "    </tr>\n",
              "    <tr>\n",
              "      <th>2023-01-04</th>\n",
              "      <td>23.049999</td>\n",
              "      <td>89.400002</td>\n",
              "    </tr>\n",
              "    <tr>\n",
              "      <th>2023-01-05</th>\n",
              "      <td>23.879999</td>\n",
              "      <td>90.900002</td>\n",
              "    </tr>\n",
              "    <tr>\n",
              "      <th>2023-01-06</th>\n",
              "      <td>23.740000</td>\n",
              "      <td>92.339996</td>\n",
              "    </tr>\n",
              "    <tr>\n",
              "      <th>2023-01-09</th>\n",
              "      <td>23.850000</td>\n",
              "      <td>92.500000</td>\n",
              "    </tr>\n",
              "  </tbody>\n",
              "</table>\n",
              "</div>\n",
              "      <button class=\"colab-df-convert\" onclick=\"convertToInteractive('df-b9de9ff1-7ff4-4b97-9ef7-e718e91b5852')\"\n",
              "              title=\"Convert this dataframe to an interactive table.\"\n",
              "              style=\"display:none;\">\n",
              "        \n",
              "  <svg xmlns=\"http://www.w3.org/2000/svg\" height=\"24px\"viewBox=\"0 0 24 24\"\n",
              "       width=\"24px\">\n",
              "    <path d=\"M0 0h24v24H0V0z\" fill=\"none\"/>\n",
              "    <path d=\"M18.56 5.44l.94 2.06.94-2.06 2.06-.94-2.06-.94-.94-2.06-.94 2.06-2.06.94zm-11 1L8.5 8.5l.94-2.06 2.06-.94-2.06-.94L8.5 2.5l-.94 2.06-2.06.94zm10 10l.94 2.06.94-2.06 2.06-.94-2.06-.94-.94-2.06-.94 2.06-2.06.94z\"/><path d=\"M17.41 7.96l-1.37-1.37c-.4-.4-.92-.59-1.43-.59-.52 0-1.04.2-1.43.59L10.3 9.45l-7.72 7.72c-.78.78-.78 2.05 0 2.83L4 21.41c.39.39.9.59 1.41.59.51 0 1.02-.2 1.41-.59l7.78-7.78 2.81-2.81c.8-.78.8-2.07 0-2.86zM5.41 20L4 18.59l7.72-7.72 1.47 1.35L5.41 20z\"/>\n",
              "  </svg>\n",
              "      </button>\n",
              "      \n",
              "  <style>\n",
              "    .colab-df-container {\n",
              "      display:flex;\n",
              "      flex-wrap:wrap;\n",
              "      gap: 12px;\n",
              "    }\n",
              "\n",
              "    .colab-df-convert {\n",
              "      background-color: #E8F0FE;\n",
              "      border: none;\n",
              "      border-radius: 50%;\n",
              "      cursor: pointer;\n",
              "      display: none;\n",
              "      fill: #1967D2;\n",
              "      height: 32px;\n",
              "      padding: 0 0 0 0;\n",
              "      width: 32px;\n",
              "    }\n",
              "\n",
              "    .colab-df-convert:hover {\n",
              "      background-color: #E2EBFA;\n",
              "      box-shadow: 0px 1px 2px rgba(60, 64, 67, 0.3), 0px 1px 3px 1px rgba(60, 64, 67, 0.15);\n",
              "      fill: #174EA6;\n",
              "    }\n",
              "\n",
              "    [theme=dark] .colab-df-convert {\n",
              "      background-color: #3B4455;\n",
              "      fill: #D2E3FC;\n",
              "    }\n",
              "\n",
              "    [theme=dark] .colab-df-convert:hover {\n",
              "      background-color: #434B5C;\n",
              "      box-shadow: 0px 1px 3px 1px rgba(0, 0, 0, 0.15);\n",
              "      filter: drop-shadow(0px 1px 2px rgba(0, 0, 0, 0.3));\n",
              "      fill: #FFFFFF;\n",
              "    }\n",
              "  </style>\n",
              "\n",
              "      <script>\n",
              "        const buttonEl =\n",
              "          document.querySelector('#df-b9de9ff1-7ff4-4b97-9ef7-e718e91b5852 button.colab-df-convert');\n",
              "        buttonEl.style.display =\n",
              "          google.colab.kernel.accessAllowed ? 'block' : 'none';\n",
              "\n",
              "        async function convertToInteractive(key) {\n",
              "          const element = document.querySelector('#df-b9de9ff1-7ff4-4b97-9ef7-e718e91b5852');\n",
              "          const dataTable =\n",
              "            await google.colab.kernel.invokeFunction('convertToInteractive',\n",
              "                                                     [key], {});\n",
              "          if (!dataTable) return;\n",
              "\n",
              "          const docLinkHtml = 'Like what you see? Visit the ' +\n",
              "            '<a target=\"_blank\" href=https://colab.research.google.com/notebooks/data_table.ipynb>data table notebook</a>'\n",
              "            + ' to learn more about interactive tables.';\n",
              "          element.innerHTML = '';\n",
              "          dataTable['output_type'] = 'display_data';\n",
              "          await google.colab.output.renderOutput(dataTable, element);\n",
              "          const docLink = document.createElement('div');\n",
              "          docLink.innerHTML = docLinkHtml;\n",
              "          element.appendChild(docLink);\n",
              "        }\n",
              "      </script>\n",
              "    </div>\n",
              "  </div>\n",
              "  "
            ]
          },
          "metadata": {},
          "execution_count": 56
        }
      ]
    },
    {
      "cell_type": "markdown",
      "source": [
        "Calculating log returns of the securities:"
      ],
      "metadata": {
        "id": "TryB8rhUdzH6"
      }
    },
    {
      "cell_type": "code",
      "metadata": {
        "colab": {
          "base_uri": "https://localhost:8080/"
        },
        "id": "zezvgkD3Cho8",
        "outputId": "f1fb85b7-0689-4e62-f07d-adc378bb6438"
      },
      "source": [
        "sec_returns = np.log(sec_data / sec_data.shift(1))\n",
        "percentify(sec_returns)"
      ],
      "execution_count": null,
      "outputs": [
        {
          "output_type": "stream",
          "name": "stdout",
          "text": [
            "            PETR4.SA  VALE3.SA\n",
            "Date                          \n",
            "2018-01-09       NaN       NaN\n",
            "2018-01-10    -1.360    -1.403\n",
            "2018-01-11     2.643     1.935\n",
            "2018-01-12     0.289     0.576\n",
            "2018-01-15     0.289    -0.184\n",
            "...              ...       ...\n",
            "2023-01-03    -2.563    -0.179\n",
            "2023-01-04     3.129     0.179\n",
            "2023-01-05     3.538     1.664\n",
            "2023-01-06    -0.588     1.572\n",
            "2023-01-09     0.462     0.173\n",
            "\n",
            "[1240 rows x 2 columns]%\n"
          ]
        }
      ]
    },
    {
      "cell_type": "markdown",
      "metadata": {
        "id": "zP-NN1UjC_Z8"
      },
      "source": [
        "##2.1. Calculating annualized volatility (risk)"
      ]
    },
    {
      "cell_type": "markdown",
      "source": [
        "Let's get the annualized volatility for each security."
      ],
      "metadata": {
        "id": "fYjvpyY9o4jp"
      }
    },
    {
      "cell_type": "code",
      "metadata": {
        "colab": {
          "base_uri": "https://localhost:8080/"
        },
        "id": "9tcs_szFCkKz",
        "outputId": "290abd51-ed9d-4a73-d0cc-962bc17d7b72"
      },
      "source": [
        "print('Annual average return is: \\n', sec_returns.mean()*252)"
      ],
      "execution_count": null,
      "outputs": [
        {
          "output_type": "stream",
          "name": "stdout",
          "text": [
            "Annual average return is: \n",
            " PETR4.SA    0.235179\n",
            "VALE3.SA    0.228875\n",
            "dtype: float64\n"
          ]
        }
      ]
    },
    {
      "cell_type": "code",
      "metadata": {
        "colab": {
          "base_uri": "https://localhost:8080/"
        },
        "id": "F7uM_ukCCnAT",
        "outputId": "676f4b2c-645f-4555-a308-050eeaacee31"
      },
      "source": [
        "print('Standard deviation (volatility) is: \\n', sec_returns.std())"
      ],
      "execution_count": null,
      "outputs": [
        {
          "output_type": "stream",
          "name": "stdout",
          "text": [
            "Standard deviation (volatility) is: \n",
            " PETR4.SA    0.031412\n",
            "VALE3.SA    0.026020\n",
            "dtype: float64\n"
          ]
        }
      ]
    },
    {
      "cell_type": "markdown",
      "metadata": {
        "id": "tqJ2FhFfCrr7"
      },
      "source": [
        "Since standard deviation is the square root of the variance, to annualize it you must multiply by: $\\sqrt{252}$\n",
        "\n",
        "$var \\cdot 252 = s^2 \\cdot 252$\n",
        "\n",
        "$\\sqrt{var \\cdot 252} = \\sqrt{s^2 \\cdot 252}$\n",
        "\n",
        "$= s \\cdot \\sqrt{252}$\n",
        "\n",
        "where $s$ is the standard deviation.\n",
        "\n",
        "We are using $s$ instead of $\\sigma$, because we're using a sample of the data, not the whole population."
      ]
    },
    {
      "cell_type": "code",
      "metadata": {
        "colab": {
          "base_uri": "https://localhost:8080/"
        },
        "id": "ZUSe8it9CoWK",
        "outputId": "95ca5755-606b-4c04-e211-f3bc08dbd286"
      },
      "source": [
        "print('Annualized volatility (risk) is: \\n', sec_returns.std()*252 ** 0.5)"
      ],
      "execution_count": null,
      "outputs": [
        {
          "output_type": "stream",
          "name": "stdout",
          "text": [
            "Annualized volatility (risk) is: \n",
            " PETR4.SA    0.498643\n",
            "VALE3.SA    0.413055\n",
            "dtype: float64\n"
          ]
        }
      ]
    },
    {
      "cell_type": "markdown",
      "metadata": {
        "id": "eRv-uJw2Deur"
      },
      "source": [
        "#3. Covariance and Correlation"
      ]
    },
    {
      "cell_type": "markdown",
      "metadata": {
        "id": "-pcm1nHeKlnw"
      },
      "source": [
        "##3.1. Covariance\n",
        "The formula for covariance is as below.\n",
        "\n",
        "> $Cov_{xy}=\\frac{(x-\\bar{x})\\cdot(y-\\bar{y})}{n-1}$\n",
        "\n",
        "Basically, the covariance is a qualitative measure of relationship between two variables, meaning:\n",
        "\n",
        "Positive covariance -> they move in the same direction\n",
        "\n",
        "Negative covariance -> they move in separate directions\n",
        "\n",
        "Zero covariance -> they are independent\n",
        "\n",
        "$Covariance\\ Matrix = \\sum\n",
        "\\begin{bmatrix}\n",
        "\\sigma_1^2 & \\sigma_{12} & \\cdots & \\sigma_{1n}\\\\\n",
        "\\sigma_{21} & \\sigma_2^2 & \\cdots & \\sigma_{2n}\\\\\n",
        "\\vdots & \\vdots & \\ddots & \\vdots\\\\\n",
        "\\sigma_{n1} & \\sigma_{n2} & \\cdots & \\sigma_n^2\n",
        "\\end{bmatrix}$\n",
        "\n",
        "In this case, working with Ibovespa and Petrobras, we end up with the following matrix:\n",
        "$\\begin{array}{c|c}\n",
        "  var(Vale) & covar(Vale, Petr) \\\\ \n",
        "  \\hline\n",
        "  covar(Vale, Petr) & var(Petr)\n",
        " \\end{array}$\n",
        " \n",
        "This means we need to calculate both the variance and covariance of the securities."
      ]
    },
    {
      "cell_type": "markdown",
      "metadata": {
        "id": "UDRHqTHGMQ2i"
      },
      "source": [
        "###3.1.1. Calculating variance"
      ]
    },
    {
      "cell_type": "code",
      "metadata": {
        "colab": {
          "base_uri": "https://localhost:8080/"
        },
        "id": "7rlU6NxoKz_S",
        "outputId": "2928f06c-f048-4327-ef77-522508c3a930"
      },
      "source": [
        "Petr_var = sec_returns['PETR4.SA'].var()\n",
        "Vale_var = sec_returns['VALE3.SA'].var()\n",
        "\n",
        "print('Variance of Petrobras:',Petr_var)\n",
        "print('Variance of Vale:',Vale_var)"
      ],
      "execution_count": null,
      "outputs": [
        {
          "output_type": "stream",
          "name": "stdout",
          "text": [
            "Variance of Petrobras: 0.000986684652838594\n",
            "Variance of Vale: 0.0006770399979753269\n"
          ]
        }
      ]
    },
    {
      "cell_type": "code",
      "metadata": {
        "colab": {
          "base_uri": "https://localhost:8080/"
        },
        "id": "iL8f8b_4LIYR",
        "outputId": "faa57920-5770-44da-e894-ca793e94a3a4"
      },
      "source": [
        "Petr_var_a = Petr_var * 252\n",
        "Vale_var_a = Vale_var * 252\n",
        "\n",
        "print('Annualized variance of Petrobras:',Petr_var_a)\n",
        "print('Annualized variance of Vale:',Vale_var_a)"
      ],
      "execution_count": null,
      "outputs": [
        {
          "output_type": "stream",
          "name": "stdout",
          "text": [
            "Annualized variance of Petrobras: 0.24864453251532567\n",
            "Annualized variance of Vale: 0.17061407948978238\n"
          ]
        }
      ]
    },
    {
      "cell_type": "markdown",
      "metadata": {
        "id": "2xQzV1KCMTwR"
      },
      "source": [
        "###3.1.2. Calculating covariance\n",
        "There is already a method that calculates the covariance matrix, so there is no need to calculate the variances previously. But it is good to check if the numbers match."
      ]
    },
    {
      "cell_type": "code",
      "metadata": {
        "colab": {
          "base_uri": "https://localhost:8080/",
          "height": 112
        },
        "id": "wPfAdfstMVlf",
        "outputId": "b8a96695-717f-432a-8b03-f367efbe66c3"
      },
      "source": [
        "cov_matrix = sec_returns.cov()\n",
        "cov_matrix_a = cov_matrix*252\n",
        "cov_matrix_a"
      ],
      "execution_count": null,
      "outputs": [
        {
          "output_type": "execute_result",
          "data": {
            "text/plain": [
              "          PETR4.SA  VALE3.SA\n",
              "PETR4.SA  0.248645  0.090166\n",
              "VALE3.SA  0.090166  0.170614"
            ],
            "text/html": [
              "\n",
              "  <div id=\"df-ab5ed4fc-8997-4104-a8c1-b5272e679efa\">\n",
              "    <div class=\"colab-df-container\">\n",
              "      <div>\n",
              "<style scoped>\n",
              "    .dataframe tbody tr th:only-of-type {\n",
              "        vertical-align: middle;\n",
              "    }\n",
              "\n",
              "    .dataframe tbody tr th {\n",
              "        vertical-align: top;\n",
              "    }\n",
              "\n",
              "    .dataframe thead th {\n",
              "        text-align: right;\n",
              "    }\n",
              "</style>\n",
              "<table border=\"1\" class=\"dataframe\">\n",
              "  <thead>\n",
              "    <tr style=\"text-align: right;\">\n",
              "      <th></th>\n",
              "      <th>PETR4.SA</th>\n",
              "      <th>VALE3.SA</th>\n",
              "    </tr>\n",
              "  </thead>\n",
              "  <tbody>\n",
              "    <tr>\n",
              "      <th>PETR4.SA</th>\n",
              "      <td>0.248645</td>\n",
              "      <td>0.090166</td>\n",
              "    </tr>\n",
              "    <tr>\n",
              "      <th>VALE3.SA</th>\n",
              "      <td>0.090166</td>\n",
              "      <td>0.170614</td>\n",
              "    </tr>\n",
              "  </tbody>\n",
              "</table>\n",
              "</div>\n",
              "      <button class=\"colab-df-convert\" onclick=\"convertToInteractive('df-ab5ed4fc-8997-4104-a8c1-b5272e679efa')\"\n",
              "              title=\"Convert this dataframe to an interactive table.\"\n",
              "              style=\"display:none;\">\n",
              "        \n",
              "  <svg xmlns=\"http://www.w3.org/2000/svg\" height=\"24px\"viewBox=\"0 0 24 24\"\n",
              "       width=\"24px\">\n",
              "    <path d=\"M0 0h24v24H0V0z\" fill=\"none\"/>\n",
              "    <path d=\"M18.56 5.44l.94 2.06.94-2.06 2.06-.94-2.06-.94-.94-2.06-.94 2.06-2.06.94zm-11 1L8.5 8.5l.94-2.06 2.06-.94-2.06-.94L8.5 2.5l-.94 2.06-2.06.94zm10 10l.94 2.06.94-2.06 2.06-.94-2.06-.94-.94-2.06-.94 2.06-2.06.94z\"/><path d=\"M17.41 7.96l-1.37-1.37c-.4-.4-.92-.59-1.43-.59-.52 0-1.04.2-1.43.59L10.3 9.45l-7.72 7.72c-.78.78-.78 2.05 0 2.83L4 21.41c.39.39.9.59 1.41.59.51 0 1.02-.2 1.41-.59l7.78-7.78 2.81-2.81c.8-.78.8-2.07 0-2.86zM5.41 20L4 18.59l7.72-7.72 1.47 1.35L5.41 20z\"/>\n",
              "  </svg>\n",
              "      </button>\n",
              "      \n",
              "  <style>\n",
              "    .colab-df-container {\n",
              "      display:flex;\n",
              "      flex-wrap:wrap;\n",
              "      gap: 12px;\n",
              "    }\n",
              "\n",
              "    .colab-df-convert {\n",
              "      background-color: #E8F0FE;\n",
              "      border: none;\n",
              "      border-radius: 50%;\n",
              "      cursor: pointer;\n",
              "      display: none;\n",
              "      fill: #1967D2;\n",
              "      height: 32px;\n",
              "      padding: 0 0 0 0;\n",
              "      width: 32px;\n",
              "    }\n",
              "\n",
              "    .colab-df-convert:hover {\n",
              "      background-color: #E2EBFA;\n",
              "      box-shadow: 0px 1px 2px rgba(60, 64, 67, 0.3), 0px 1px 3px 1px rgba(60, 64, 67, 0.15);\n",
              "      fill: #174EA6;\n",
              "    }\n",
              "\n",
              "    [theme=dark] .colab-df-convert {\n",
              "      background-color: #3B4455;\n",
              "      fill: #D2E3FC;\n",
              "    }\n",
              "\n",
              "    [theme=dark] .colab-df-convert:hover {\n",
              "      background-color: #434B5C;\n",
              "      box-shadow: 0px 1px 3px 1px rgba(0, 0, 0, 0.15);\n",
              "      filter: drop-shadow(0px 1px 2px rgba(0, 0, 0, 0.3));\n",
              "      fill: #FFFFFF;\n",
              "    }\n",
              "  </style>\n",
              "\n",
              "      <script>\n",
              "        const buttonEl =\n",
              "          document.querySelector('#df-ab5ed4fc-8997-4104-a8c1-b5272e679efa button.colab-df-convert');\n",
              "        buttonEl.style.display =\n",
              "          google.colab.kernel.accessAllowed ? 'block' : 'none';\n",
              "\n",
              "        async function convertToInteractive(key) {\n",
              "          const element = document.querySelector('#df-ab5ed4fc-8997-4104-a8c1-b5272e679efa');\n",
              "          const dataTable =\n",
              "            await google.colab.kernel.invokeFunction('convertToInteractive',\n",
              "                                                     [key], {});\n",
              "          if (!dataTable) return;\n",
              "\n",
              "          const docLinkHtml = 'Like what you see? Visit the ' +\n",
              "            '<a target=\"_blank\" href=https://colab.research.google.com/notebooks/data_table.ipynb>data table notebook</a>'\n",
              "            + ' to learn more about interactive tables.';\n",
              "          element.innerHTML = '';\n",
              "          dataTable['output_type'] = 'display_data';\n",
              "          await google.colab.output.renderOutput(dataTable, element);\n",
              "          const docLink = document.createElement('div');\n",
              "          docLink.innerHTML = docLinkHtml;\n",
              "          element.appendChild(docLink);\n",
              "        }\n",
              "      </script>\n",
              "    </div>\n",
              "  </div>\n",
              "  "
            ]
          },
          "metadata": {},
          "execution_count": 63
        }
      ]
    },
    {
      "cell_type": "markdown",
      "metadata": {
        "id": "jmi1rsfUKTeJ"
      },
      "source": [
        "##3.2. Correlation coefficient\n",
        "The formula for correlation is as below.\n",
        "\n",
        "> $\\rho_{xy} = \\frac{(x-\\bar{x})\\cdot(y-\\bar{y})}{\\sigma_x\\sigma_y}$\n",
        "\n",
        "Differently from the qualitative aspect of the covariance, the correlation is quantitative, meaning it measures how strong is the linear relationship between two variables.\n",
        "\n",
        "Its value ranges from -1 to 1, meaning:\n",
        "\n",
        "Correlation = 1 → perfect positive correlation\n",
        "\n",
        "Correlation = -1 → perfect negative correlation\n",
        "\n",
        "Correlation = 0 → there's no correlation"
      ]
    },
    {
      "cell_type": "code",
      "metadata": {
        "colab": {
          "base_uri": "https://localhost:8080/",
          "height": 112
        },
        "id": "bOFiBnDAMyui",
        "outputId": "8ff8e022-bef7-4766-d0ed-baee6232ec06"
      },
      "source": [
        "corr_matrix = sec_returns.corr()\n",
        "corr_matrix"
      ],
      "execution_count": null,
      "outputs": [
        {
          "output_type": "execute_result",
          "data": {
            "text/plain": [
              "          PETR4.SA  VALE3.SA\n",
              "PETR4.SA  1.000000  0.437772\n",
              "VALE3.SA  0.437772  1.000000"
            ],
            "text/html": [
              "\n",
              "  <div id=\"df-d519827c-238f-43e4-9569-03d4ca89728b\">\n",
              "    <div class=\"colab-df-container\">\n",
              "      <div>\n",
              "<style scoped>\n",
              "    .dataframe tbody tr th:only-of-type {\n",
              "        vertical-align: middle;\n",
              "    }\n",
              "\n",
              "    .dataframe tbody tr th {\n",
              "        vertical-align: top;\n",
              "    }\n",
              "\n",
              "    .dataframe thead th {\n",
              "        text-align: right;\n",
              "    }\n",
              "</style>\n",
              "<table border=\"1\" class=\"dataframe\">\n",
              "  <thead>\n",
              "    <tr style=\"text-align: right;\">\n",
              "      <th></th>\n",
              "      <th>PETR4.SA</th>\n",
              "      <th>VALE3.SA</th>\n",
              "    </tr>\n",
              "  </thead>\n",
              "  <tbody>\n",
              "    <tr>\n",
              "      <th>PETR4.SA</th>\n",
              "      <td>1.000000</td>\n",
              "      <td>0.437772</td>\n",
              "    </tr>\n",
              "    <tr>\n",
              "      <th>VALE3.SA</th>\n",
              "      <td>0.437772</td>\n",
              "      <td>1.000000</td>\n",
              "    </tr>\n",
              "  </tbody>\n",
              "</table>\n",
              "</div>\n",
              "      <button class=\"colab-df-convert\" onclick=\"convertToInteractive('df-d519827c-238f-43e4-9569-03d4ca89728b')\"\n",
              "              title=\"Convert this dataframe to an interactive table.\"\n",
              "              style=\"display:none;\">\n",
              "        \n",
              "  <svg xmlns=\"http://www.w3.org/2000/svg\" height=\"24px\"viewBox=\"0 0 24 24\"\n",
              "       width=\"24px\">\n",
              "    <path d=\"M0 0h24v24H0V0z\" fill=\"none\"/>\n",
              "    <path d=\"M18.56 5.44l.94 2.06.94-2.06 2.06-.94-2.06-.94-.94-2.06-.94 2.06-2.06.94zm-11 1L8.5 8.5l.94-2.06 2.06-.94-2.06-.94L8.5 2.5l-.94 2.06-2.06.94zm10 10l.94 2.06.94-2.06 2.06-.94-2.06-.94-.94-2.06-.94 2.06-2.06.94z\"/><path d=\"M17.41 7.96l-1.37-1.37c-.4-.4-.92-.59-1.43-.59-.52 0-1.04.2-1.43.59L10.3 9.45l-7.72 7.72c-.78.78-.78 2.05 0 2.83L4 21.41c.39.39.9.59 1.41.59.51 0 1.02-.2 1.41-.59l7.78-7.78 2.81-2.81c.8-.78.8-2.07 0-2.86zM5.41 20L4 18.59l7.72-7.72 1.47 1.35L5.41 20z\"/>\n",
              "  </svg>\n",
              "      </button>\n",
              "      \n",
              "  <style>\n",
              "    .colab-df-container {\n",
              "      display:flex;\n",
              "      flex-wrap:wrap;\n",
              "      gap: 12px;\n",
              "    }\n",
              "\n",
              "    .colab-df-convert {\n",
              "      background-color: #E8F0FE;\n",
              "      border: none;\n",
              "      border-radius: 50%;\n",
              "      cursor: pointer;\n",
              "      display: none;\n",
              "      fill: #1967D2;\n",
              "      height: 32px;\n",
              "      padding: 0 0 0 0;\n",
              "      width: 32px;\n",
              "    }\n",
              "\n",
              "    .colab-df-convert:hover {\n",
              "      background-color: #E2EBFA;\n",
              "      box-shadow: 0px 1px 2px rgba(60, 64, 67, 0.3), 0px 1px 3px 1px rgba(60, 64, 67, 0.15);\n",
              "      fill: #174EA6;\n",
              "    }\n",
              "\n",
              "    [theme=dark] .colab-df-convert {\n",
              "      background-color: #3B4455;\n",
              "      fill: #D2E3FC;\n",
              "    }\n",
              "\n",
              "    [theme=dark] .colab-df-convert:hover {\n",
              "      background-color: #434B5C;\n",
              "      box-shadow: 0px 1px 3px 1px rgba(0, 0, 0, 0.15);\n",
              "      filter: drop-shadow(0px 1px 2px rgba(0, 0, 0, 0.3));\n",
              "      fill: #FFFFFF;\n",
              "    }\n",
              "  </style>\n",
              "\n",
              "      <script>\n",
              "        const buttonEl =\n",
              "          document.querySelector('#df-d519827c-238f-43e4-9569-03d4ca89728b button.colab-df-convert');\n",
              "        buttonEl.style.display =\n",
              "          google.colab.kernel.accessAllowed ? 'block' : 'none';\n",
              "\n",
              "        async function convertToInteractive(key) {\n",
              "          const element = document.querySelector('#df-d519827c-238f-43e4-9569-03d4ca89728b');\n",
              "          const dataTable =\n",
              "            await google.colab.kernel.invokeFunction('convertToInteractive',\n",
              "                                                     [key], {});\n",
              "          if (!dataTable) return;\n",
              "\n",
              "          const docLinkHtml = 'Like what you see? Visit the ' +\n",
              "            '<a target=\"_blank\" href=https://colab.research.google.com/notebooks/data_table.ipynb>data table notebook</a>'\n",
              "            + ' to learn more about interactive tables.';\n",
              "          element.innerHTML = '';\n",
              "          dataTable['output_type'] = 'display_data';\n",
              "          await google.colab.output.renderOutput(dataTable, element);\n",
              "          const docLink = document.createElement('div');\n",
              "          docLink.innerHTML = docLinkHtml;\n",
              "          element.appendChild(docLink);\n",
              "        }\n",
              "      </script>\n",
              "    </div>\n",
              "  </div>\n",
              "  "
            ]
          },
          "metadata": {},
          "execution_count": 64
        }
      ]
    },
    {
      "cell_type": "markdown",
      "metadata": {
        "id": "9pwECTk1M_a_"
      },
      "source": [
        "The values above show the stocks are mildly correlated. It's expected some correlation, as there are macro factors that influence both, such as the BRL exchange rate.\n",
        "\n",
        "Pay attention in the distinction of corr(prices) vs corr(returns).\n",
        "\n",
        "Corr(returns) reflects the dependence between price variation at different times and focuses on the returns of your portfolio.\n",
        "\n",
        "Corr(prices) focuses on stock price levels.\n",
        "\n",
        "**Corr(returns) is what we, as investors, need**."
      ]
    },
    {
      "cell_type": "markdown",
      "metadata": {
        "id": "-Z_Htt1aNryS"
      },
      "source": [
        "#4. Portfolio variance\n",
        "Let's have an example of a portfolio with 2 stocks, we need the variance of that portfolio, so we can take the square root and find the standard deviation, i.e., the volatility of the portfolio.\n",
        "<br><br>\n",
        "###Portfolio with 2 stocks:\n",
        "\n",
        "> $(w_1\\sigma_1 + w_2\\sigma_2)^2 = w_1^2\\sigma_1^2 + 2w_1\\sigma_1w_2\\sigma_2\\rho_{12}+w_2^2\\sigma_2^2$\n",
        "\n",
        "Where $w_1$ and $w_2$ are the weight of the stocks in the portfolio.\n",
        "\n",
        "→ Also, $\\sigma_1\\sigma_2\\rho_{12}$ = $Cov_{1,2}$, so we can replace that in the equation.\n",
        "\n",
        "**This can be applied to any number of stocks, in which case we'll need to replicate this calculation for all combinations of pairs of stocks.**\n",
        "<br><br>\n",
        "###Portfolio with 3 stocks:\n",
        "\n",
        "> $(w_1\\sigma_1 + w_2\\sigma_2 + w_3\\sigma_3)^2 = w_1^2\\sigma_1^2 + w_2^2\\sigma_2^2 + w_3^2\\sigma_3^2$ \n",
        "\n",
        "> $+ 2w_1w_2Cov_{12}$\n",
        "\n",
        "> $+ 2w_1w_3Cov_{13}$\n",
        "\n",
        "> $+ 2w_2w_3Cov_{23}$"
      ]
    },
    {
      "cell_type": "markdown",
      "metadata": {
        "id": "oL_ZP1KRO4AI"
      },
      "source": [
        "##4.1. Calculating Portfolio Risk"
      ]
    },
    {
      "cell_type": "markdown",
      "metadata": {
        "id": "ZRtuqH8FPHNR"
      },
      "source": [
        "###4.1.1. Portfolio variance: \n",
        "\n",
        "To calculate the variance, we can use an algebraic approach, which will make things easier, as it's easier to write and take advantage of numpy.\n",
        "\n",
        "Arithmetic: $(ab)^2 = a^2b^2$\n",
        "\n",
        "Algebraic: $(a\\cdot B)^2 = a^TBa$\n",
        "\n",
        "$(w \\cdot Cov)^2 =\n",
        "\\begin{bmatrix}\n",
        "w1 & w2\n",
        "\\end{bmatrix}\n",
        "\\begin{bmatrix}\n",
        "v(1) & c(1,2)\\\\\n",
        "c(1,2) & v(2)\n",
        "\\end{bmatrix}\n",
        "\\begin{bmatrix}\n",
        "w1\\\\\n",
        "w2\n",
        "\\end{bmatrix} = single\\ number$"
      ]
    },
    {
      "cell_type": "markdown",
      "metadata": {
        "id": "4otoQKiAPEkC"
      },
      "source": [
        "####Portfolio with 2 stocks\n",
        "Let's calculate the portfolio risk. We'll begin with a 2 stock portfolio:"
      ]
    },
    {
      "cell_type": "code",
      "metadata": {
        "id": "EIcGIfsLO6kp"
      },
      "source": [
        "weights = np.array([0.5,0.5])"
      ],
      "execution_count": null,
      "outputs": []
    },
    {
      "cell_type": "code",
      "metadata": {
        "colab": {
          "base_uri": "https://localhost:8080/"
        },
        "id": "dhEZChfqPIuh",
        "outputId": "6cdd5f69-e070-4f4a-fdcd-b704b6e0e4a9"
      },
      "source": [
        "pfolio_var = np.dot(weights.T, np.dot(sec_returns.cov()*252, weights))\n",
        "pfolio_var"
      ],
      "execution_count": null,
      "outputs": [
        {
          "output_type": "execute_result",
          "data": {
            "text/plain": [
              "0.14989781739060382"
            ]
          },
          "metadata": {},
          "execution_count": 66
        }
      ]
    },
    {
      "cell_type": "markdown",
      "metadata": {
        "id": "AU8zNCORPP_g"
      },
      "source": [
        "Portfolio volatility:"
      ]
    },
    {
      "cell_type": "code",
      "metadata": {
        "colab": {
          "base_uri": "https://localhost:8080/"
        },
        "id": "jrCEhA2BPRyp",
        "outputId": "1cac612d-472a-41d7-e046-27b086859867"
      },
      "source": [
        "pfolio_vol = pfolio_var**0.5\n",
        "percentify(pfolio_vol)"
      ],
      "execution_count": null,
      "outputs": [
        {
          "output_type": "stream",
          "name": "stdout",
          "text": [
            "38.717%\n"
          ]
        }
      ]
    },
    {
      "cell_type": "markdown",
      "source": [
        "####Portfolio with 3 stocks"
      ],
      "metadata": {
        "id": "umZMNypKYeGo"
      }
    },
    {
      "cell_type": "code",
      "source": [
        "weights_3 = np.array([1/3, 1/3, 1/3])"
      ],
      "metadata": {
        "id": "5XCsf27VYxYW"
      },
      "execution_count": null,
      "outputs": []
    },
    {
      "cell_type": "markdown",
      "source": [
        "We've been using a portfolio with only 2 stocks so far, so let's include a third stock: MGLU3."
      ],
      "metadata": {
        "id": "w644srN2ZAIq"
      }
    },
    {
      "cell_type": "code",
      "source": [
        "tickers_3 = ['MGLU3.SA', 'PETR4.SA', 'VALE3.SA']\n",
        "\n",
        "sec_data_3 = pd.DataFrame()\n",
        "sec_data_3 = wb.get_data_yahoo(tickers_3,period='5y')['Adj Close']\n",
        "sec_returns_3 = np.log(sec_data_3 / sec_data_3.shift(1))\n",
        "\n",
        "pfolio_3_var = np.dot(weights_3.T, np.dot(sec_returns_3.cov()*252, weights_3))\n",
        "pfolio_3_vol = pfolio_3_var**0.5\n",
        "\n",
        "percentify(pfolio_3_vol)"
      ],
      "metadata": {
        "colab": {
          "base_uri": "https://localhost:8080/"
        },
        "id": "_K19SPRdZGSf",
        "outputId": "c804dfb0-7b0a-477d-d84f-05f2d446db48"
      },
      "execution_count": null,
      "outputs": [
        {
          "output_type": "stream",
          "name": "stdout",
          "text": [
            "[*********************100%***********************]  3 of 3 completed\n",
            "38.353%\n"
          ]
        }
      ]
    },
    {
      "cell_type": "markdown",
      "metadata": {
        "id": "0FLlOYcDSmlA"
      },
      "source": [
        "#5. Calculating Diversifiable and Non-Diversifiable Risk of a Portfolio\n",
        "\n",
        "First, let's explain which are these risks:\n",
        "\n",
        "\n",
        "*   Diversifiable risk (or idiosyncratic or unsystematic risk) is the one specific to the company or industry, which can be mitigated through diversification of non-correlated assets in the portfolio\n",
        "\n",
        "*   Non-diversifiable risk (or systematic risk) is the one all companies are subject to, e.g., an economic recession, wars, natural disasters such as the recent pandemic, etc.\n",
        "\n",
        "<img src=https://cdn.corporatefinanceinstitute.com/assets/Screen-Shot-2018-09-26-at-10.09.31-AM.png width=600>\n"
      ]
    },
    {
      "cell_type": "markdown",
      "metadata": {
        "id": "zrD6_e5uSyEB"
      },
      "source": [
        "##5.1. Diversifiable (unsystematic) Risk:\n",
        "Because there are two types of risk, we can say that:\n",
        "$Portfolio\\ risk = Systematic\\ risk + Diversifiable\\ risk$\n",
        "\n",
        "Moving one step back, we know that portfolio variance is:\n",
        "\n",
        "$Portfolio\\ var = w_1^2\\sigma_1^2 + 2w_1\\sigma_1w_2\\sigma_2\\rho_{12}+w_2^2\\sigma_2^2$\n",
        "\n",
        "Since the diversifiable risk is related to each company/industry, we can say that:\n",
        "\n",
        "$2w_1\\sigma_1w_2\\sigma_2\\rho_{12}$ = Diversifiable variance\n",
        "\n",
        "$w_1^2\\sigma_1^2 + w_2^2\\sigma_2^2$ = Non-diversifiable variance"
      ]
    },
    {
      "cell_type": "code",
      "metadata": {
        "colab": {
          "base_uri": "https://localhost:8080/"
        },
        "id": "W63nIl6qSwrS",
        "outputId": "77c35b2f-c98b-47b3-fb3c-c954f9c9be9f"
      },
      "source": [
        "diversifiable_var = pfolio_var - (weights[0]**2 * Petr_var_a) - (weights[1]**2 * Vale_var_a)\n",
        "diversifiable_var"
      ],
      "execution_count": null,
      "outputs": [
        {
          "output_type": "execute_result",
          "data": {
            "text/plain": [
              "0.045083164389326795"
            ]
          },
          "metadata": {},
          "execution_count": 75
        }
      ]
    },
    {
      "cell_type": "markdown",
      "metadata": {
        "id": "P0pmAdOlU0Ao"
      },
      "source": [
        "##5.2. Non-Diversifiable Risk:\n",
        "From the previous equation, we now know that:\n",
        "$Systematic\\ var = Portfolio\\ var - Diversifiable\\ var$"
      ]
    },
    {
      "cell_type": "code",
      "metadata": {
        "colab": {
          "base_uri": "https://localhost:8080/"
        },
        "id": "XYmeynoYU-Gw",
        "outputId": "ff072523-6bbd-4901-c6cd-ad665e1f621e"
      },
      "source": [
        "#Calculation method 1:\n",
        "non_diversifiable_var_1 = pfolio_var - diversifiable_var\n",
        "\n",
        "#Calculation method 2:\n",
        "non_diversifiable_var_2 = (weights[0]**2 * Petr_var_a) + (weights[1]**2 * Vale_var_a)\n",
        "\n",
        "print(non_diversifiable_var_1)\n",
        "print(non_diversifiable_var_2)"
      ],
      "execution_count": null,
      "outputs": [
        {
          "output_type": "stream",
          "name": "stdout",
          "text": [
            "0.10481465300127701\n",
            "0.10481465300127701\n"
          ]
        }
      ]
    }
  ]
}